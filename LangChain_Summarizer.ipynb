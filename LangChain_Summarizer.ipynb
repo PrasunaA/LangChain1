{
  "nbformat": 4,
  "nbformat_minor": 0,
  "metadata": {
    "colab": {
      "provenance": [],
      "authorship_tag": "ABX9TyMulOW/XpJB1AMiPKiR3u23",
      "include_colab_link": true
    },
    "kernelspec": {
      "name": "python3",
      "display_name": "Python 3"
    },
    "language_info": {
      "name": "python"
    }
  },
  "cells": [
    {
      "cell_type": "markdown",
      "metadata": {
        "id": "view-in-github",
        "colab_type": "text"
      },
      "source": [
        "<a href=\"https://colab.research.google.com/github/PrasunaA/LangChain1/blob/main/LangChain_Summarizer.ipynb\" target=\"_parent\"><img src=\"https://colab.research.google.com/assets/colab-badge.svg\" alt=\"Open In Colab\"/></a>"
      ]
    },
    {
      "cell_type": "code",
      "execution_count": null,
      "metadata": {
        "id": "d6H8c1k961c_"
      },
      "outputs": [],
      "source": [
        "# ✅ Install required libraries\n",
        "!pip install transformers langchain huggingface_hub"
      ]
    },
    {
      "cell_type": "code",
      "source": [
        "# ✅ Imports\n",
        "from transformers import pipeline\n",
        "from langchain_core.language_models.llms import LLM\n",
        "from langchain_core.outputs import Generation, LLMResult\n",
        "from langchain_core.pydantic_v1 import Field\n",
        "from typing import Optional, List, Any\n",
        "from langchain.prompts import PromptTemplate\n",
        "from langchain.chains import LLMChain"
      ],
      "metadata": {
        "id": "Umxb0UaK69LX"
      },
      "execution_count": null,
      "outputs": []
    },
    {
      "cell_type": "code",
      "source": [
        "# ✅ Load the Hugging Face FLAN-T5 model (no API key required)\n",
        "generator = pipeline(\"text2text-generation\", model=\"google/flan-t5-large\")"
      ],
      "metadata": {
        "id": "pjcS2ljB8P0N"
      },
      "execution_count": null,
      "outputs": []
    },
    {
      "cell_type": "code",
      "source": [
        "# ✅ Define LangChain-compatible wrapper\n",
        "class HuggingFacePipelineLLM(LLM):\n",
        "    pipeline: Any = Field(...)\n",
        "\n",
        "    def _call(self, prompt: str, stop: Optional[List[str]] = None) -> str:\n",
        "        result = self.pipeline(prompt, max_length=256, do_sample=True)\n",
        "        return result[0][\"generated_text\"]\n",
        "\n",
        "    def _generate(self, prompt: str, stop: Optional[List[str]] = None) -> LLMResult:\n",
        "        output_text = self._call(prompt, stop)\n",
        "        return LLMResult(generations=[[Generation(text=output_text)]])\n",
        "\n",
        "    @property\n",
        "    def _llm_type(self) -> str:\n",
        "        return \"custom-hf-pipeline\""
      ],
      "metadata": {
        "id": "ZFfXFAqL8aTE"
      },
      "execution_count": 4,
      "outputs": []
    },
    {
      "cell_type": "code",
      "source": [
        "# ✅ Wrap the model\n",
        "wrapped_llm = HuggingFacePipelineLLM(pipeline=generator)"
      ],
      "metadata": {
        "id": "CDBGO3Wa8rjZ"
      },
      "execution_count": 5,
      "outputs": []
    },
    {
      "cell_type": "markdown",
      "source": [
        "# **Example 2: Summarize a Short News Headline**"
      ],
      "metadata": {
        "id": "a8CUhDPf8zOE"
      }
    },
    {
      "cell_type": "code",
      "source": [
        "summary_prompt = PromptTemplate.from_template(\"Summarize this in one sentence: {news}\")\n",
        "summary_chain = LLMChain(llm=wrapped_llm, prompt=summary_prompt)\n",
        "\n",
        "news_text = \" GitHub and GitHub Gist are both valuable tools provided by GitHub for code hosting and collaboration, but they serve different primary purposes. Here's a breakdown of the key differences\"\n",
        "response = summary_chain.invoke({\"news\": news_text})\n",
        "print(\"Summary:\\n\", response[\"text\"])"
      ],
      "metadata": {
        "id": "G6Pl8f-q81tX"
      },
      "execution_count": null,
      "outputs": []
    }
  ]
}