{
  "nbformat": 4,
  "nbformat_minor": 0,
  "metadata": {
    "colab": {
      "provenance": [],
      "authorship_tag": "ABX9TyNT1RSkT4zWm+flNQ51eSjD",
      "include_colab_link": true
    },
    "kernelspec": {
      "name": "python3",
      "display_name": "Python 3"
    },
    "language_info": {
      "name": "python"
    }
  },
  "cells": [
    {
      "cell_type": "markdown",
      "metadata": {
        "id": "view-in-github",
        "colab_type": "text"
      },
      "source": [
        "<a href=\"https://colab.research.google.com/github/PrasunaA/LangChain1/blob/main/LangChain_Demo1.ipynb\" target=\"_parent\"><img src=\"https://colab.research.google.com/assets/colab-badge.svg\" alt=\"Open In Colab\"/></a>"
      ]
    },
    {
      "cell_type": "code",
      "execution_count": null,
      "metadata": {
        "id": "4nzRKg-Cf2fD"
      },
      "outputs": [],
      "source": [
        "from transformers import pipeline\n",
        "from langchain_core.language_models.llms import LLM\n",
        "from langchain_core.outputs import Generation, LLMResult\n",
        "from langchain_core.pydantic_v1 import Field\n",
        "from typing import Optional, List, Any\n",
        "\n",
        "class HuggingFacePipelineLLM(LLM):\n",
        "    pipeline: Any = Field(...)\n",
        "\n",
        "    def _call(self, prompt: str, stop: Optional[List[str]] = None) -> str:\n",
        "        result = self.pipeline(prompt, max_length=256, do_sample=True)\n",
        "        return result[0][\"generated_text\"]\n",
        "\n",
        "    def _generate(self, prompt: str, stop: Optional[List[str]] = None) -> LLMResult:\n",
        "        output_text = self._call(prompt, stop)\n",
        "        return LLMResult(generations=[[Generation(text=output_text)]])\n",
        "\n",
        "    @property\n",
        "    def _llm_type(self) -> str:\n",
        "        return \"custom-hf-pipeline\"\n"
      ]
    },
    {
      "cell_type": "code",
      "source": [
        "from transformers import pipeline\n",
        "\n",
        "generator = pipeline(\"text2text-generation\", model=\"google/flan-t5-large\")\n",
        "wrapped_llm = HuggingFacePipelineLLM(pipeline=generator)\n"
      ],
      "metadata": {
        "id": "eUKiQwPogdAk"
      },
      "execution_count": null,
      "outputs": []
    },
    {
      "cell_type": "code",
      "source": [
        "from langchain.prompts import PromptTemplate\n",
        "from langchain.chains import LLMChain\n",
        "\n",
        "prompt = PromptTemplate.from_template(\"Tell me a joke about {topic}\")\n",
        "chain = LLMChain(llm=wrapped_llm, prompt=prompt)\n",
        "\n",
        "response = chain.invoke({\"topic\": \"AI agents\"})\n",
        "print(response[\"text\"])\n"
      ],
      "metadata": {
        "id": "1u8jZa_VoBj2"
      },
      "execution_count": null,
      "outputs": []
    }
  ]
}