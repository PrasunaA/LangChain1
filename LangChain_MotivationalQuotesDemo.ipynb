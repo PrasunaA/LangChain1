{
  "nbformat": 4,
  "nbformat_minor": 0,
  "metadata": {
    "colab": {
      "provenance": [],
      "authorship_tag": "ABX9TyOHz2te/GTDrPP8lRVIQMV0",
      "include_colab_link": true
    },
    "kernelspec": {
      "name": "python3",
      "display_name": "Python 3"
    },
    "language_info": {
      "name": "python"
    }
  },
  "cells": [
    {
      "cell_type": "markdown",
      "metadata": {
        "id": "view-in-github",
        "colab_type": "text"
      },
      "source": [
        "<a href=\"https://colab.research.google.com/github/PrasunaA/LangChain1/blob/main/LangChain_MotivationalQuotesDemo.ipynb\" target=\"_parent\"><img src=\"https://colab.research.google.com/assets/colab-badge.svg\" alt=\"Open In Colab\"/></a>"
      ]
    },
    {
      "cell_type": "code",
      "execution_count": null,
      "metadata": {
        "id": "jvbVkBnl5B78"
      },
      "outputs": [],
      "source": [
        "# ✅ Install required libraries\n",
        "!pip install transformers langchain huggingface_hub"
      ]
    },
    {
      "cell_type": "code",
      "source": [
        "# ✅ Imports\n",
        "from transformers import pipeline\n",
        "from langchain_core.language_models.llms import LLM\n",
        "from langchain_core.outputs import Generation, LLMResult\n",
        "from langchain_core.pydantic_v1 import Field\n",
        "from typing import Optional, List, Any\n",
        "from langchain.prompts import PromptTemplate\n",
        "from langchain.chains import LLMChain"
      ],
      "metadata": {
        "id": "ggMcSuS75PeS"
      },
      "execution_count": null,
      "outputs": []
    },
    {
      "cell_type": "code",
      "source": [
        "# ✅ Load the Hugging Face FLAN-T5 model (no API key required)\n",
        "generator = pipeline(\"text2text-generation\", model=\"google/flan-t5-large\")"
      ],
      "metadata": {
        "id": "Sk_AjlZT5RIk"
      },
      "execution_count": null,
      "outputs": []
    },
    {
      "cell_type": "code",
      "source": [
        "# ✅ Define LangChain-compatible wrapper\n",
        "class HuggingFacePipelineLLM(LLM):\n",
        "    pipeline: Any = Field(...)\n",
        "\n",
        "    def _call(self, prompt: str, stop: Optional[List[str]] = None) -> str:\n",
        "        result = self.pipeline(prompt, max_length=256, do_sample=True)\n",
        "        return result[0][\"generated_text\"]\n",
        "\n",
        "    def _generate(self, prompt: str, stop: Optional[List[str]] = None) -> LLMResult:\n",
        "        output_text = self._call(prompt, stop)\n",
        "        return LLMResult(generations=[[Generation(text=output_text)]])\n",
        "\n",
        "    @property\n",
        "    def _llm_type(self) -> str:\n",
        "        return \"custom-hf-pipeline\""
      ],
      "metadata": {
        "id": "5tUPbtBd5URN"
      },
      "execution_count": 4,
      "outputs": []
    },
    {
      "cell_type": "code",
      "source": [
        "# ✅ Wrap the model\n",
        "wrapped_llm = HuggingFacePipelineLLM(pipeline=generator)"
      ],
      "metadata": {
        "id": "MeKuv0Qc5X3h"
      },
      "execution_count": 5,
      "outputs": []
    },
    {
      "cell_type": "markdown",
      "source": [
        "# Example 1: Generate a Motivational Quote for a Specific **Profession**"
      ],
      "metadata": {
        "id": "ji-Cwf2H5c61"
      }
    },
    {
      "cell_type": "code",
      "source": [
        "motivation_prompt = PromptTemplate.from_template(\"Give me a motivational quote for {profession}.\")\n",
        "motivation_chain = LLMChain(llm=wrapped_llm, prompt=motivation_prompt)\n",
        "\n",
        "response = motivation_chain.invoke({\"profession\": \"software developers\"})\n",
        "print(\"Motivational Quote:\\n\", response[\"text\"])"
      ],
      "metadata": {
        "id": "MfVI6NFt5jIx"
      },
      "execution_count": null,
      "outputs": []
    }
  ]
}